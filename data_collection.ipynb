{
 "cells": [
  {
   "cell_type": "markdown",
   "id": "9e5bc419-b4bf-4982-820f-b5860af4d860",
   "metadata": {},
   "source": [
    "# Code to initiate onboard camera to collect 26 hand signs representing the 26 letters in the alphabet."
   ]
  },
  {
   "cell_type": "code",
   "execution_count": 1,
   "id": "463e5bbb-20fd-4f1f-b4df-fbdc8bf847c9",
   "metadata": {},
   "outputs": [],
   "source": [
    "import os\n",
    "import cv2\n",
    "\n",
    "DATA_STORAGE_DIR = '.\\data'"
   ]
  },
  {
   "cell_type": "code",
   "execution_count": null,
   "id": "bf546bba-0a71-4c32-bc61-b0136559b235",
   "metadata": {},
   "outputs": [],
   "source": [
    "# 26 classes of hand signals representing 26 letters in the English alphabet.\n",
    "# Each hand signal class has 100 data points.\n",
    "NUM_CLASSES = 26\n",
    "DATASET_SIZE = 200"
   ]
  },
  {
   "cell_type": "code",
   "execution_count": null,
   "id": "6a715280-eb28-4629-a3d8-09b943412c94",
   "metadata": {},
   "outputs": [],
   "source": [
    "#Initiate capture class with camera 0 on computer\n",
    "cap = cv2.VideoCapture(0)\n",
    "\n",
    "for class_num in range(NUM_CLASSES):\n",
    "    path = os.path.join(DATA_STORAGE_DIR, str(class_num))\n",
    "    if not os.path.exists(path): os.makedirs(path)\n",
    "\n",
    "    # Press 'q' on keyboard to start collecting data per class\n",
    "    while True:\n",
    "        ret, frame = cap.read()\n",
    "        cv2.putText(frame, 'Ready? Press \"Q\" ! :)', (100, 50), cv2.FONT_HERSHEY_SIMPLEX, 1.3, (0, 255, 0), 3,\n",
    "                    cv2.LINE_AA)\n",
    "        cv2.imshow('frame', frame)\n",
    "        if cv2.waitKey(25) == ord('q'):\n",
    "            break\n",
    "\n",
    "    # First run got 100 data points for each class (some were bad so got deleted)\n",
    "    # Second run each class get 200 data points (100 frames or images)\n",
    "    counter = 100\n",
    "    while counter < DATASET_SIZE:\n",
    "        ret, frame = cap.read()\n",
    "        cv2.imshow('frame', frame)\n",
    "        cv2.waitKey(25)\n",
    "        cv2.imwrite(os.path.join(DATA_STORAGE_DIR, str(class_num), '{}.jpg'.format(counter)), frame)\n",
    "        counter += 1\n",
    "\n",
    "cap.release()\n",
    "cv2.destroyAllWindows()   "
   ]
  },
  {
   "cell_type": "code",
   "execution_count": 2,
   "id": "e620896f-3a37-4a98-bfdf-d87ede15a0e7",
   "metadata": {},
   "outputs": [],
   "source": [
    "import mediapipe as mp\n",
    "cap = cv2.VideoCapture(0)\n",
    "\n",
    "mp_hands = mp.solutions.hands\n",
    "mp_drawing = mp.solutions.drawing_utils\n",
    "mp_drawing_styles = mp.solutions.drawing_styles\n",
    "\n",
    "hands = mp_hands.Hands(static_image_mode=True, min_detection_confidence=0.3, max_num_hands = 1)"
   ]
  },
  {
   "cell_type": "code",
   "execution_count": 3,
   "id": "9bad8899-711e-49a6-9a78-8385a0bb018a",
   "metadata": {},
   "outputs": [
    {
     "ename": "TypeError",
     "evalue": "list indices must be integers",
     "output_type": "error",
     "traceback": [
      "\u001b[1;31m---------------------------------------------------------------------------\u001b[0m",
      "\u001b[1;31mTypeError\u001b[0m                                 Traceback (most recent call last)",
      "Cell \u001b[1;32mIn[3], line 10\u001b[0m\n\u001b[0;32m      7\u001b[0m results \u001b[38;5;241m=\u001b[39m hands\u001b[38;5;241m.\u001b[39mprocess(frame_rgb)\n\u001b[0;32m      9\u001b[0m \u001b[38;5;28;01mif\u001b[39;00m results\u001b[38;5;241m.\u001b[39mmulti_hand_landmarks:\n\u001b[1;32m---> 10\u001b[0m     \u001b[38;5;28mprint\u001b[39m(results\u001b[38;5;241m.\u001b[39mmulti_handedness[\u001b[38;5;241m0\u001b[39m]\u001b[38;5;241m.\u001b[39mclassification[\u001b[38;5;124m'\u001b[39m\u001b[38;5;124mlabel\u001b[39m\u001b[38;5;124m'\u001b[39m])\n\u001b[0;32m     11\u001b[0m     \u001b[38;5;28;01mfor\u001b[39;00m hand_landmarks \u001b[38;5;129;01min\u001b[39;00m results\u001b[38;5;241m.\u001b[39mmulti_hand_landmarks:\n\u001b[0;32m     12\u001b[0m         \u001b[38;5;66;03m# Drawing landmarks per displayed frame\u001b[39;00m\n\u001b[0;32m     13\u001b[0m         mp_drawing\u001b[38;5;241m.\u001b[39mdraw_landmarks(\n\u001b[0;32m     14\u001b[0m             frame,  \u001b[38;5;66;03m# image to draw\u001b[39;00m\n\u001b[0;32m     15\u001b[0m             hand_landmarks,  \u001b[38;5;66;03m# model output\u001b[39;00m\n\u001b[0;32m     16\u001b[0m             mp_hands\u001b[38;5;241m.\u001b[39mHAND_CONNECTIONS,  \u001b[38;5;66;03m# hand connections\u001b[39;00m\n\u001b[0;32m     17\u001b[0m             mp_drawing_styles\u001b[38;5;241m.\u001b[39mget_default_hand_landmarks_style(),\n\u001b[0;32m     18\u001b[0m             mp_drawing_styles\u001b[38;5;241m.\u001b[39mget_default_hand_connections_style())\n",
      "\u001b[1;31mTypeError\u001b[0m: list indices must be integers"
     ]
    }
   ],
   "source": [
    "while True:\n",
    "    ret, frame = cap.read()\n",
    "    frame = cv2.flip(frame, 1)\n",
    "    H, W, channel = frame.shape\n",
    "\n",
    "    frame_rgb = cv2.cvtColor(frame, cv2.COLOR_BGR2RGB)\n",
    "    results = hands.process(frame_rgb)\n",
    "\n",
    "    if results.multi_hand_landmarks:\n",
    "        print(results.multi_handedness[0].classification['label'])\n",
    "        for hand_landmarks in results.multi_hand_landmarks:\n",
    "            # Drawing landmarks per displayed frame\n",
    "            mp_drawing.draw_landmarks(\n",
    "                frame,  # image to draw\n",
    "                hand_landmarks,  # model output\n",
    "                mp_hands.HAND_CONNECTIONS,  # hand connections\n",
    "                mp_drawing_styles.get_default_hand_landmarks_style(),\n",
    "                mp_drawing_styles.get_default_hand_connections_style())\n",
    "\n",
    "    cv2.imshow('frame', frame)\n",
    "    # Press 'q' to quit program\n",
    "    if cv2.waitKey(1) == ord('q'): break\n",
    "\n",
    "cap.release()\n",
    "cv2.destroyAllWindows()"
   ]
  },
  {
   "cell_type": "code",
   "execution_count": null,
   "id": "ab0714cf-3ca5-481a-b965-675471634fe6",
   "metadata": {},
   "outputs": [],
   "source": []
  }
 ],
 "metadata": {
  "kernelspec": {
   "display_name": "Python 3 (ipykernel)",
   "language": "python",
   "name": "python3"
  },
  "language_info": {
   "codemirror_mode": {
    "name": "ipython",
    "version": 3
   },
   "file_extension": ".py",
   "mimetype": "text/x-python",
   "name": "python",
   "nbconvert_exporter": "python",
   "pygments_lexer": "ipython3",
   "version": "3.11.11"
  }
 },
 "nbformat": 4,
 "nbformat_minor": 5
}
