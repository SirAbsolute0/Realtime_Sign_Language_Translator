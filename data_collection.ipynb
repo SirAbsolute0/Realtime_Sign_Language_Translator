{
 "cells": [
  {
   "cell_type": "markdown",
   "id": "9e5bc419-b4bf-4982-820f-b5860af4d860",
   "metadata": {},
   "source": [
    "# Code to initiate onboard camera to collect 26 hand signs representing the 26 letters in the alphabet."
   ]
  },
  {
   "cell_type": "code",
   "execution_count": 1,
   "id": "463e5bbb-20fd-4f1f-b4df-fbdc8bf847c9",
   "metadata": {},
   "outputs": [],
   "source": [
    "import os\n",
    "import cv2\n",
    "\n",
    "DATA_STORAGE_DIR = '.\\data'"
   ]
  },
  {
   "cell_type": "code",
   "execution_count": 2,
   "id": "bf546bba-0a71-4c32-bc61-b0136559b235",
   "metadata": {},
   "outputs": [],
   "source": [
    "# 26 classes of hand signals representing 26 letters in the English alphabet.\n",
    "# Each hand signal class has 100 data points.\n",
    "NUM_CLASSES = 26\n",
    "DATASET_SIZE = 100"
   ]
  },
  {
   "cell_type": "code",
   "execution_count": null,
   "id": "6a715280-eb28-4629-a3d8-09b943412c94",
   "metadata": {},
   "outputs": [],
   "source": [
    "#Initiate capture class with camera 0 on computer\n",
    "cap = cv2.VideoCapture(0)\n",
    "\n",
    "for class_num in range(NUM_CLASSES):\n",
    "    path = os.path.join(DATA_STORAGE_DIR, str(class_num))\n",
    "    if not os.path.exists(path): os.makedirs(path)\n",
    "\n",
    "    # Press 'q' on keyboard to start collecting data per class\n",
    "    while True:\n",
    "        ret, frame = cap.read()\n",
    "        cv2.putText(frame, 'Ready? Press \"Q\" ! :)', (100, 50), cv2.FONT_HERSHEY_SIMPLEX, 1.3, (0, 255, 0), 3,\n",
    "                    cv2.LINE_AA)\n",
    "        cv2.imshow('frame', frame)\n",
    "        if cv2.waitKey(25) == ord('q'):\n",
    "            break\n",
    "\n",
    "    # Each class get 100 data points (100 frames or images)\n",
    "    counter = 0\n",
    "    while counter < DATASET_SIZE:\n",
    "        ret, frame = cap.read()\n",
    "        cv2.imshow('frame', frame)\n",
    "        cv2.waitKey(25)\n",
    "        cv2.imwrite(os.path.join(DATA_STORAGE_DIR, str(i), '{}.jpg'.format(counter)), frame)\n",
    "        counter += 1\n",
    "\n",
    "cap.release()\n",
    "cv2.destroyAllWindows()   "
   ]
  },
  {
   "cell_type": "code",
   "execution_count": null,
   "id": "9bad8899-711e-49a6-9a78-8385a0bb018a",
   "metadata": {},
   "outputs": [],
   "source": []
  },
  {
   "cell_type": "code",
   "execution_count": null,
   "id": "ab0714cf-3ca5-481a-b965-675471634fe6",
   "metadata": {},
   "outputs": [],
   "source": []
  }
 ],
 "metadata": {
  "kernelspec": {
   "display_name": "Python 3 (ipykernel)",
   "language": "python",
   "name": "python3"
  },
  "language_info": {
   "codemirror_mode": {
    "name": "ipython",
    "version": 3
   },
   "file_extension": ".py",
   "mimetype": "text/x-python",
   "name": "python",
   "nbconvert_exporter": "python",
   "pygments_lexer": "ipython3",
   "version": "3.11.11"
  }
 },
 "nbformat": 4,
 "nbformat_minor": 5
}
