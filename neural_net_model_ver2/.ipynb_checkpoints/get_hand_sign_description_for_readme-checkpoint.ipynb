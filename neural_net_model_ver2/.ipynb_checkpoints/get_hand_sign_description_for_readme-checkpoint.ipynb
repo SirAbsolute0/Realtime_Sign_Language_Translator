{
 "cells": [
  {
   "cell_type": "code",
   "execution_count": 3,
   "id": "20954948-ab6b-4c78-ba84-757942cdebee",
   "metadata": {},
   "outputs": [],
   "source": [
    "import os\n",
    "import pickle\n",
    "import mediapipe as mp\n",
    "import cv2\n",
    "import matplotlib.pyplot as plt\n",
    "\n",
    "DATA_DIR = './data'\n",
    "DESCRIPTION_DATA_DIR = './data_description'"
   ]
  },
  {
   "cell_type": "code",
   "execution_count": 2,
   "id": "efd6c8d9-1fa7-4fba-bc62-dbc56056c0c0",
   "metadata": {},
   "outputs": [],
   "source": [
    "mp_hands = mp.solutions.hands\n",
    "mp_drawing = mp.solutions.drawing_utils\n",
    "mp_drawing_styles = mp.solutions.drawing_styles\n",
    "\n",
    "hands = mp_hands.Hands(static_image_mode=True, min_detection_confidence=0.6, max_num_hands = 1)"
   ]
  },
  {
   "cell_type": "code",
   "execution_count": 37,
   "id": "db60fcf3-7ec8-453d-9007-9374abd2411c",
   "metadata": {},
   "outputs": [],
   "source": [
    "for dir_ in os.listdir(DATA_DIR):\n",
    "    path = os.path.join(DATA_DIR, dir_)\n",
    "    description_data_path = os.path.join(DESCRIPTION_DATA_DIR, dir_)\n",
    "    if not os.path.exists(description_data_path): os.makedirs(description_data_path)\n",
    "        \n",
    "    for img_path in os.listdir(path):\n",
    "        x_, y_ = [], []\n",
    "\n",
    "        img = cv2.imread(os.path.join(path, img_path))\n",
    "        # Flip image horizontally to correctly identify left hand being used in the collected images\n",
    "        #img = cv2.flip(img, 1)\n",
    "        img_rgb = cv2.cvtColor(img, cv2.COLOR_BGR2RGB)\n",
    "        H, W, channel = img_rgb.shape\n",
    "        results = hands.process(img_rgb)\n",
    "\n",
    "        # Only use the images with left hand for dataset generation => only 21 points for landmarks\n",
    "        if results.multi_hand_landmarks and results.multi_handedness[0].classification[0].label == 'Left':\n",
    "            for hand_landmarks in results.multi_hand_landmarks:\n",
    "                # Write images with overlapped hand landmarks on the original data collected.\n",
    "                mp_drawing.draw_landmarks(\n",
    "                    img,\n",
    "                    hand_landmarks,\n",
    "                    mp_hands.HAND_CONNECTIONS,  \n",
    "                    mp_drawing_styles.get_default_hand_landmarks_style(),\n",
    "                    mp_drawing_styles.get_default_hand_connections_style())\n",
    "                \n",
    "                for i in range(len(hand_landmarks.landmark)):\n",
    "                    x = hand_landmarks.landmark[i].x\n",
    "                    y = hand_landmarks.landmark[i].y\n",
    "    \n",
    "                    x_.append(x)\n",
    "                    y_.append(y)\n",
    "\n",
    "            x_min, x_max = min(x_), max(x_)\n",
    "            y_min, y_max = min(y_), max(y_)\n",
    "            \n",
    "            for i in range(len(hand_landmarks.landmark)):\n",
    "                x = hand_landmarks.landmark[i].x\n",
    "                y = hand_landmarks.landmark[i].y\n",
    "    \n",
    "            # (x1, y1) is the top left corner of the box\n",
    "            x1 = int(x_min * W) - 20\n",
    "            y1 = int(y_min * H) - 20\n",
    "    \n",
    "            # (x2, y2) is the bottom right corner of the box\n",
    "            x2 = int(x_max * W) + 10\n",
    "            y2 = int(y_max * H) + 10\n",
    "\n",
    "            predicted_character = chr(int(dir_) + 65)\n",
    "            cv2.rectangle(img, (x1, y1), (x2, y2), (0, 0, 255), 4)\n",
    "            cv2.putText(img, predicted_character, (x2, y2 - 10), cv2.FONT_HERSHEY_SIMPLEX, 1.3, (0, 0, 255), 3, cv2.LINE_AA)\n",
    "\n",
    "            if x1 < 0:\n",
    "                x1 = 0\n",
    "            img = img[y1:y2, x1:x2]\n",
    "            cv2.imwrite(os.path.join(description_data_path, img_path), img)\n",
    "            break"
   ]
  },
  {
   "cell_type": "code",
   "execution_count": null,
   "id": "d4b21894-e84a-4c4a-8587-73477416c18d",
   "metadata": {},
   "outputs": [],
   "source": []
  }
 ],
 "metadata": {
  "kernelspec": {
   "display_name": "Python 3 (ipykernel)",
   "language": "python",
   "name": "python3"
  },
  "language_info": {
   "codemirror_mode": {
    "name": "ipython",
    "version": 3
   },
   "file_extension": ".py",
   "mimetype": "text/x-python",
   "name": "python",
   "nbconvert_exporter": "python",
   "pygments_lexer": "ipython3",
   "version": "3.11.11"
  }
 },
 "nbformat": 4,
 "nbformat_minor": 5
}
