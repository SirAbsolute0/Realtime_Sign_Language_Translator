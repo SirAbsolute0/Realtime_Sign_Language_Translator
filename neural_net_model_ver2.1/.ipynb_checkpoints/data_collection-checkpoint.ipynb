{
 "cells": [
  {
   "cell_type": "markdown",
   "id": "9e5bc419-b4bf-4982-820f-b5860af4d860",
   "metadata": {},
   "source": [
    "# Code to initiate onboard camera to collect 26 hand signs representing the 26 letters in the alphabet."
   ]
  },
  {
   "cell_type": "code",
   "execution_count": 1,
   "id": "463e5bbb-20fd-4f1f-b4df-fbdc8bf847c9",
   "metadata": {},
   "outputs": [],
   "source": [
    "import os\n",
    "import cv2\n",
    "\n",
    "DATA_STORAGE_DIR = '.\\data'"
   ]
  },
  {
   "cell_type": "code",
   "execution_count": 2,
   "id": "bf546bba-0a71-4c32-bc61-b0136559b235",
   "metadata": {},
   "outputs": [],
   "source": [
    "# 26 classes of hand signals representing 26 letters in the English alphabet.\n",
    "# Each hand signal class has 100 data points.\n",
    "NUM_CLASSES = 26\n",
    "DATASET_SIZE = 600"
   ]
  },
  {
   "cell_type": "code",
   "execution_count": 3,
   "id": "6a715280-eb28-4629-a3d8-09b943412c94",
   "metadata": {},
   "outputs": [],
   "source": [
    "#Initiate capture class with camera 0 on computer\n",
    "cap = cv2.VideoCapture(0)\n",
    "\n",
    "for class_num in range(NUM_CLASSES):\n",
    "    path = os.path.join(DATA_STORAGE_DIR, str(class_num))\n",
    "    if not os.path.exists(path): os.makedirs(path)\n",
    "\n",
    "    # Press 'q' on keyboard to start collecting data per class\n",
    "    while True:\n",
    "        ret, frame = cap.read()\n",
    "        frame = cv2.flip(frame, 1)\n",
    "        cv2.putText(frame, 'Ready? Press \"Q\" ! :)', (100, 50), cv2.FONT_HERSHEY_SIMPLEX, 1.3, (0, 255, 0), 3,\n",
    "                    cv2.LINE_AA)\n",
    "        cv2.imshow('frame', frame)\n",
    "        if cv2.waitKey(25) == ord('q'):\n",
    "            break\n",
    "\n",
    "    # First run got 100 data points for each class (some were bad so got deleted)\n",
    "    # Second run each class get 200 data points (100 frames or images)\n",
    "    counter = 0\n",
    "    while counter < DATASET_SIZE:\n",
    "        ret, frame = cap.read()\n",
    "        frame = cv2.flip(frame, 1)\n",
    "        cv2.imshow('frame', frame)\n",
    "        cv2.waitKey(25)\n",
    "        cv2.imwrite(os.path.join(DATA_STORAGE_DIR, str(class_num), '{}.jpg'.format(counter)), frame)\n",
    "        counter += 1\n",
    "\n",
    "cap.release()\n",
    "cv2.destroyAllWindows()   "
   ]
  },
  {
   "cell_type": "code",
   "execution_count": null,
   "id": "e620896f-3a37-4a98-bfdf-d87ede15a0e7",
   "metadata": {},
   "outputs": [],
   "source": [
    "import mediapipe as mp\n",
    "cap = cv2.VideoCapture(0)\n",
    "\n",
    "mp_hands = mp.solutions.hands\n",
    "mp_drawing = mp.solutions.drawing_utils\n",
    "mp_drawing_styles = mp.solutions.drawing_styles\n",
    "\n",
    "hands = mp_hands.Hands(static_image_mode=True, min_detection_confidence=0.3, max_num_hands = 1)"
   ]
  },
  {
   "cell_type": "code",
   "execution_count": null,
   "id": "9bad8899-711e-49a6-9a78-8385a0bb018a",
   "metadata": {},
   "outputs": [],
   "source": [
    "while True:\n",
    "    ret, frame = cap.read()\n",
    "    frame = cv2.flip(frame, 1)\n",
    "    H, W, channel = frame.shape\n",
    "\n",
    "    frame_rgb = cv2.cvtColor(frame, cv2.COLOR_BGR2RGB)\n",
    "    results = hands.process(frame_rgb)\n",
    "\n",
    "    if results.multi_hand_landmarks:\n",
    "        print(results.multi_handedness[0].classification['label'])\n",
    "        for hand_landmarks in results.multi_hand_landmarks:\n",
    "            # Drawing landmarks per displayed frame\n",
    "            mp_drawing.draw_landmarks(\n",
    "                frame,  # image to draw\n",
    "                hand_landmarks,  # model output\n",
    "                mp_hands.HAND_CONNECTIONS,  # hand connections\n",
    "                mp_drawing_styles.get_default_hand_landmarks_style(),\n",
    "                mp_drawing_styles.get_default_hand_connections_style())\n",
    "\n",
    "    cv2.imshow('frame', frame)\n",
    "    # Press 'q' to quit program\n",
    "    if cv2.waitKey(1) == ord('q'): break\n",
    "\n",
    "cap.release()\n",
    "cv2.destroyAllWindows()"
   ]
  },
  {
   "cell_type": "code",
   "execution_count": null,
   "id": "ab0714cf-3ca5-481a-b965-675471634fe6",
   "metadata": {},
   "outputs": [],
   "source": []
  }
 ],
 "metadata": {
  "kernelspec": {
   "display_name": "Python 3 (ipykernel)",
   "language": "python",
   "name": "python3"
  },
  "language_info": {
   "codemirror_mode": {
    "name": "ipython",
    "version": 3
   },
   "file_extension": ".py",
   "mimetype": "text/x-python",
   "name": "python",
   "nbconvert_exporter": "python",
   "pygments_lexer": "ipython3",
   "version": "3.11.11"
  }
 },
 "nbformat": 4,
 "nbformat_minor": 5
}
