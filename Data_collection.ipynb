{
 "cells": [
  {
   "cell_type": "code",
   "execution_count": 1,
   "id": "734bcfe3-f08e-4dd5-a01c-bfe04f001362",
   "metadata": {},
   "outputs": [],
   "source": [
    "import os\n",
    "import cv2\n",
    "\n",
    "DATA_STORAGE_DIR = '.\\data'"
   ]
  },
  {
   "cell_type": "markdown",
   "id": "343e6fb7-1d76-4d0a-ae5e-63ea4a835ba0",
   "metadata": {},
   "source": [
    "#Creating the folder to store the training hand gesture data\n",
    "#Repeated work\n",
    "\n",
    "if not os.path.exists(DATA_STORAGE_DIR):\n",
    "    os.makedirs(DATA_STORAGE_DIR)"
   ]
  },
  {
   "cell_type": "code",
   "execution_count": 2,
   "id": "bf546bba-0a71-4c32-bc61-b0136559b235",
   "metadata": {},
   "outputs": [],
   "source": [
    "HAND_CLASSES = 3\n",
    "DATASET_SIZE = 100"
   ]
  },
  {
   "cell_type": "code",
   "execution_count": 4,
   "id": "6a715280-eb28-4629-a3d8-09b943412c94",
   "metadata": {},
   "outputs": [],
   "source": [
    "#Collecting data for the differenet hand gesture classes\n",
    "cap = cv2.VideoCapture(0)\n",
    "\n",
    "for i in range(HAND_CLASSES):\n",
    "    path = os.path.join(DATA_STORAGE_DIR, str(i))\n",
    "    if not os.path.exists(path):\n",
    "        os.makedirs(path)\n",
    "\n",
    "    while True:\n",
    "        ret, frame = cap.read()\n",
    "        cv2.putText(frame, 'Ready? Press \"Q\" ! :)', (100, 50), cv2.FONT_HERSHEY_SIMPLEX, 1.3, (0, 255, 0), 3,\n",
    "                    cv2.LINE_AA)\n",
    "        cv2.imshow('frame', frame)\n",
    "        if cv2.waitKey(25) == ord('q'):\n",
    "            break\n",
    "\n",
    "    counter = 0\n",
    "    while counter < DATASET_SIZE:\n",
    "        ret, frame = cap.read()\n",
    "        cv2.imshow('frame', frame)\n",
    "        cv2.waitKey(25)\n",
    "        cv2.imwrite(os.path.join(DATA_STORAGE_DIR, str(i), '{}.jpg'.format(counter)), frame)\n",
    "        counter += 1\n",
    "\n",
    "cap.release()\n",
    "cv2.destroyAllWindows()\n",
    "            "
   ]
  },
  {
   "cell_type": "code",
   "execution_count": null,
   "id": "9bad8899-711e-49a6-9a78-8385a0bb018a",
   "metadata": {},
   "outputs": [],
   "source": []
  },
  {
   "cell_type": "code",
   "execution_count": null,
   "id": "ab0714cf-3ca5-481a-b965-675471634fe6",
   "metadata": {},
   "outputs": [],
   "source": []
  }
 ],
 "metadata": {
  "kernelspec": {
   "display_name": "Python 3 (ipykernel)",
   "language": "python",
   "name": "python3"
  },
  "language_info": {
   "codemirror_mode": {
    "name": "ipython",
    "version": 3
   },
   "file_extension": ".py",
   "mimetype": "text/x-python",
   "name": "python",
   "nbconvert_exporter": "python",
   "pygments_lexer": "ipython3",
   "version": "3.10.16"
  }
 },
 "nbformat": 4,
 "nbformat_minor": 5
}
