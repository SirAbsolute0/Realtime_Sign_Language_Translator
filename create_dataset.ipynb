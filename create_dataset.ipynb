{
 "cells": [
  {
   "cell_type": "markdown",
   "id": "d467fe5f-14f5-481f-b1f5-c7d771c0570d",
   "metadata": {},
   "source": [
    "# Code to create dataset prior to training\n",
    "(usefule link: https://saturncloud.io/blog/how-to-write-text-in-jupyter-ipython-notebook/)"
   ]
  },
  {
   "cell_type": "code",
   "execution_count": 1,
   "id": "e27355a7-60a5-47d5-97bf-e7af153eb4dc",
   "metadata": {},
   "outputs": [],
   "source": [
    "import os\n",
    "import pickle\n",
    "import mediapipe as mp\n",
    "import cv2\n",
    "import matplotlib.pyplot as plt\n",
    "\n",
    "DATA_DIR = './data'"
   ]
  },
  {
   "cell_type": "code",
   "execution_count": 2,
   "id": "eb3140ee-87de-4ed3-9842-5ef5bd59ce99",
   "metadata": {},
   "outputs": [],
   "source": [
    "mp_hands = mp.solutions.hands\n",
    "mp_drawing = mp.solutions.drawing_utils\n",
    "mp_drawing_styles = mp.solutions.drawing_styles\n",
    "\n",
    "hands = mp_hands.Hands(static_image_mode=True, min_detection_confidence=0.3)"
   ]
  },
  {
   "cell_type": "code",
   "execution_count": 5,
   "id": "247d00f8-8905-4788-afd2-59d49b52e1f6",
   "metadata": {},
   "outputs": [],
   "source": [
    "data, labels = [], []\n",
    "\n",
    "for dir_ in os.listdir(DATA_DIR):\n",
    "    path = os.path.join(DATA_DIR, dir_)\n",
    "    for img_path in os.listdir(path):\n",
    "        data_aux, x_, y_ = [], [], []\n",
    "\n",
    "        img = cv2.imread(os.path.join(path, img_path))\n",
    "        img_rgb = cv2.cvtColor(img, cv2.COLOR_BGR2RGB)\n",
    "\n",
    "        results = hands.process(img_rgb)\n",
    "\n",
    "        if results.multi_hand_landmarks:\n",
    "            for hand_landmarks in results.multi_hand_landmarks:\n",
    "                for i in range(len(hand_landmarks.landmark)):\n",
    "                    x = hand_landmarks.landmark[i].x\n",
    "                    y = hand_landmarks.landmark[i].y\n",
    "    \n",
    "                    x_.append(x)\n",
    "                    y_.append(y)\n",
    "\n",
    "            for i in range(len(hand_landmarks.landmark)):\n",
    "                x = hand_landmarks.landmark[i].x\n",
    "                y = hand_landmarks.landmark[i].y\n",
    "                data_aux.append(x - min(x_))\n",
    "                data_aux.append(y - min(y_))\n",
    "\n",
    "        data.append(data_aux)\n",
    "        labels.append(dir_)"
   ]
  },
  {
   "cell_type": "code",
   "execution_count": 10,
   "id": "ddb6ac15-52e1-4c5f-8249-645f8af4803d",
   "metadata": {},
   "outputs": [
    {
     "name": "stdout",
     "output_type": "stream",
     "text": [
      "[classification {\n",
      "  index: 1\n",
      "  score: 0.997188449\n",
      "  label: \"Right\"\n",
      "}\n",
      "]\n"
     ]
    }
   ],
   "source": [
    "print(results.multi_handedness)"
   ]
  },
  {
   "cell_type": "code",
   "execution_count": 11,
   "id": "c18224d9-99dc-4a45-8da0-1395b693cf75",
   "metadata": {},
   "outputs": [],
   "source": [
    "f = open('data.pickle', 'wb')\n",
    "pickle.dump({'data': data, 'labels': labels}, f)\n",
    "f.close()"
   ]
  },
  {
   "cell_type": "code",
   "execution_count": null,
   "id": "a1b90240-1839-4da6-8c01-c0437b894aca",
   "metadata": {},
   "outputs": [],
   "source": []
  }
 ],
 "metadata": {
  "kernelspec": {
   "display_name": "Python 3 (ipykernel)",
   "language": "python",
   "name": "python3"
  },
  "language_info": {
   "codemirror_mode": {
    "name": "ipython",
    "version": 3
   },
   "file_extension": ".py",
   "mimetype": "text/x-python",
   "name": "python",
   "nbconvert_exporter": "python",
   "pygments_lexer": "ipython3",
   "version": "3.10.16"
  }
 },
 "nbformat": 4,
 "nbformat_minor": 5
}
