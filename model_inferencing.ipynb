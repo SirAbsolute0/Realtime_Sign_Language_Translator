{
 "cells": [
  {
   "cell_type": "markdown",
   "id": "d8a2772f-d1a4-4814-8b8d-15dbf119bab0",
   "metadata": {},
   "source": [
    "# Code to inference model to recoginize different hand signs as letters."
   ]
  },
  {
   "cell_type": "code",
   "execution_count": 6,
   "id": "1c8ad1dc-29be-4db7-80cf-2ff6d01c03c1",
   "metadata": {},
   "outputs": [],
   "source": [
    "import cv2\n",
    "import os\n",
    "import mediapipe as mp\n",
    "import numpy as np\n",
    "from collections import defaultdict\n",
    "import torch"
   ]
  },
  {
   "cell_type": "code",
   "execution_count": 9,
   "id": "9fa88c49-7627-45bb-a1fb-7058e0659315",
   "metadata": {},
   "outputs": [
    {
     "name": "stdout",
     "output_type": "stream",
     "text": [
      "Using cuda device\n"
     ]
    }
   ],
   "source": [
    "DEVICE = torch.accelerator.current_accelerator().type if torch.accelerator.is_available() else \"cpu\"\n",
    "print(f\"Using {DEVICE} device\")"
   ]
  },
  {
   "cell_type": "code",
   "execution_count": 12,
   "id": "d4c83bf1-3514-4f3a-9f3b-eea3f224a39f",
   "metadata": {},
   "outputs": [
    {
     "data": {
      "text/plain": [
       "RecursiveScriptModule(\n",
       "  original_name=NeuralNetwork\n",
       "  (net): RecursiveScriptModule(\n",
       "    original_name=Sequential\n",
       "    (0): RecursiveScriptModule(original_name=Linear)\n",
       "    (1): RecursiveScriptModule(original_name=ReLU)\n",
       "    (2): RecursiveScriptModule(original_name=Linear)\n",
       "    (3): RecursiveScriptModule(original_name=LogSoftmax)\n",
       "  )\n",
       ")"
      ]
     },
     "execution_count": 12,
     "metadata": {},
     "output_type": "execute_result"
    }
   ],
   "source": [
    "# Load model for inferencing\n",
    "model = torch.jit.load('model.pth')\n",
    "model.eval()\n",
    "model.to(DEVICE)"
   ]
  },
  {
   "cell_type": "code",
   "execution_count": 11,
   "id": "def2ef26-f1dd-471e-a400-063f3393dcb6",
   "metadata": {},
   "outputs": [],
   "source": [
    "cap = cv2.VideoCapture(0)\n",
    "\n",
    "mp_hands = mp.solutions.hands\n",
    "mp_drawing = mp.solutions.drawing_utils\n",
    "mp_drawing_styles = mp.solutions.drawing_styles\n",
    "\n",
    "hands = mp_hands.Hands(static_image_mode=True, min_detection_confidence=0.6, max_num_hands = 1)"
   ]
  },
  {
   "cell_type": "code",
   "execution_count": null,
   "id": "57c4f1bc-0a82-4a06-8c59-422a356b1082",
   "metadata": {
    "scrolled": true
   },
   "outputs": [],
   "source": [
    "dict_ = defaultdict(int)\n",
    "while True:\n",
    "    data_aux, x_, y_ = [], [], []\n",
    "    \n",
    "    ret, frame = cap.read()\n",
    "    frame = cv2.flip(frame, 1)\n",
    "    H, W, channel = frame.shape\n",
    "\n",
    "    frame_rgb = cv2.cvtColor(frame, cv2.COLOR_BGR2RGB)\n",
    "    results = hands.process(frame_rgb)\n",
    "\n",
    "    #Only predicting left hand\n",
    "    if results.multi_hand_landmarks and results.multi_handedness[0].classification[0].label == 'Left':\n",
    "        for hand_landmarks in results.multi_hand_landmarks:\n",
    "            # Drawing landmarks per displayed frame\n",
    "            mp_drawing.draw_landmarks(\n",
    "                frame,  # image to draw\n",
    "                hand_landmarks,  # model output\n",
    "                mp_hands.HAND_CONNECTIONS,  # hand connections\n",
    "                mp_drawing_styles.get_default_hand_landmarks_style(),\n",
    "                mp_drawing_styles.get_default_hand_connections_style())\n",
    "            \n",
    "        for i in range(len(hand_landmarks.landmark)):\n",
    "            x = hand_landmarks.landmark[i].x\n",
    "            y = hand_landmarks.landmark[i].y\n",
    "\n",
    "            x_.append(x)\n",
    "            y_.append(y)\n",
    "\n",
    "        x_min, x_max = min(x_), max(x_)\n",
    "        y_min, y_max = min(y_), max(y_)\n",
    "        \n",
    "        for i in range(len(hand_landmarks.landmark)):\n",
    "            x = hand_landmarks.landmark[i].x\n",
    "            y = hand_landmarks.landmark[i].y\n",
    "            data_aux.append(x - x_min)\n",
    "            data_aux.append(y - y_min)\n",
    "\n",
    "        # (x1, y1) is the top left corner of the box\n",
    "        x1 = int(x_min * W) - 10\n",
    "        y1 = int(y_min * H) - 10\n",
    "\n",
    "        # (x2, y2) is the bottom right corner of the box\n",
    "        x2 = int(x_max * W) - 10\n",
    "        y2 = int(y_max * H) - 10\n",
    "\n",
    "        predictions = model.predict_proba([np.asarray(data_aux)])\n",
    "        if max(predictions[0]) >= 0.30:\n",
    "            prediction = model.predict([np.asarray(data_aux)])\n",
    "            predicted_character = chr(int(prediction[0]) + 65) #chr(65) = 'A'\n",
    "            dict_[predicted_character] += 1\n",
    "            cv2.rectangle(frame, (x1, y1), (x2, y2), (0, 0, 0), 4)\n",
    "            cv2.putText(frame, predicted_character, (x2, y2 - 10), cv2.FONT_HERSHEY_SIMPLEX, 1.3, (0, 0, 0), 3, cv2.LINE_AA)\n",
    "    else:\n",
    "        if dict_ and max(dict_.values()) >= 30:\n",
    "            WORD += max(dict_, key=dict_.get)\n",
    "            dict_ = defaultdict(int)\n",
    "        \n",
    "    cv2.imshow('frame', frame)\n",
    "    print(WORD)\n",
    "    # Press 'q' to quit program\n",
    "    if cv2.waitKey(1) == ord('q'): break\n",
    "\n",
    "cap.release()\n",
    "cv2.destroyAllWindows()"
   ]
  },
  {
   "cell_type": "code",
   "execution_count": null,
   "id": "27250ad8-ecfd-4757-a225-c3aa6dc47393",
   "metadata": {},
   "outputs": [],
   "source": []
  }
 ],
 "metadata": {
  "kernelspec": {
   "display_name": "Python 3 (ipykernel)",
   "language": "python",
   "name": "python3"
  },
  "language_info": {
   "codemirror_mode": {
    "name": "ipython",
    "version": 3
   },
   "file_extension": ".py",
   "mimetype": "text/x-python",
   "name": "python",
   "nbconvert_exporter": "python",
   "pygments_lexer": "ipython3",
   "version": "3.11.11"
  }
 },
 "nbformat": 4,
 "nbformat_minor": 5
}
