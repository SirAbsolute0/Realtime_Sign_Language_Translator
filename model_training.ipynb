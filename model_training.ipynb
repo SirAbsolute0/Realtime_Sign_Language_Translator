{
 "cells": [
  {
   "cell_type": "markdown",
   "id": "bd834d13-6bd3-4780-b281-279a86171e19",
   "metadata": {},
   "source": [
    "# Code to train model on recognizing different hand signs."
   ]
  },
  {
   "cell_type": "code",
   "execution_count": 1,
   "id": "64ffb347-8915-4402-842e-735ef839a36c",
   "metadata": {},
   "outputs": [
    {
     "name": "stderr",
     "output_type": "stream",
     "text": [
      "C:\\Users\\Phuong Hoang Dinh\\AppData\\Roaming\\Python\\Python311\\site-packages\\tqdm\\auto.py:21: TqdmWarning: IProgress not found. Please update jupyter and ipywidgets. See https://ipywidgets.readthedocs.io/en/stable/user_install.html\n",
      "  from .autonotebook import tqdm as notebook_tqdm\n"
     ]
    }
   ],
   "source": [
    "import pickle\n",
    "import matplotlib.pyplot as plt # For data viz\n",
    "import pandas as pd\n",
    "import numpy as np\n",
    "import sys\n",
    "from tqdm.notebook import tqdm\n",
    "import os\n",
    "MAIN_DIR = os.path.dirname(os.path.abspath('__file__'))\n",
    "\n",
    "import torch\n",
    "import torch.nn as nn\n",
    "import torch.optim as optim\n",
    "from torch.utils.data import Dataset, DataLoader\n",
    "import torchvision\n",
    "import torchvision.transforms as transforms\n",
    "from torchvision.datasets import ImageFolder\n",
    "import timm"
   ]
  },
  {
   "cell_type": "code",
   "execution_count": 2,
   "id": "744b55e5-bd00-4161-9038-5927a9a42701",
   "metadata": {},
   "outputs": [
    {
     "name": "stdout",
     "output_type": "stream",
     "text": [
      "Using cuda device\n"
     ]
    }
   ],
   "source": [
    "device = torch.accelerator.current_accelerator().type if torch.accelerator.is_available() else \"cpu\"\n",
    "print(f\"Using {device} device\")"
   ]
  },
  {
   "cell_type": "markdown",
   "id": "5ded3470-0169-4f1b-9153-d6483217cbeb",
   "metadata": {},
   "source": [
    "# Dataset Generation"
   ]
  },
  {
   "cell_type": "code",
   "execution_count": 3,
   "id": "4ca30204-343b-4f1a-8bb7-d2d6f45da431",
   "metadata": {},
   "outputs": [],
   "source": [
    "#load data\n",
    "data_dict = pickle.load(open('data.p', 'rb'))\n",
    "\n",
    "data = data_dict['data']\n",
    "labels = data_dict['labels']"
   ]
  },
  {
   "cell_type": "code",
   "execution_count": 4,
   "id": "cec79bef-b119-4eff-9e3d-4cc0b67fad2f",
   "metadata": {},
   "outputs": [
    {
     "name": "stdout",
     "output_type": "stream",
     "text": [
      "[[0.06068733334541321, 0.3100363612174988], [0.1444000005722046, 0.2712266445159912], [0.20791888236999512, 0.17321628332138062], [0.2224220633506775, 0.07306307554244995], [0.23784911632537842, 0.0], [0.15568631887435913, 0.07333582639694214], [0.18263676762580872, 0.013934284448623657], [0.1692524254322052, 0.1072419285774231], [0.15313789248466492, 0.11891710758209229], [0.10369017720222473, 0.07029926776885986], [0.1317923665046692, 0.024378836154937744], [0.1266593039035797, 0.13630786538124084], [0.112984299659729, 0.12890994548797607], [0.05375194549560547, 0.08144316077232361], [0.07957541942596436, 0.031121015548706055], [0.08280402421951294, 0.1376902163028717], [0.0687447190284729, 0.1369052529335022], [0.0, 0.09611031413078308], [0.027103543281555176, 0.0680772066116333], [0.03880774974822998, 0.13879692554473877], [0.02626165747642517, 0.14640474319458008]]\n"
     ]
    }
   ],
   "source": [
    "print(data[0])"
   ]
  },
  {
   "cell_type": "markdown",
   "id": "8cc0a0ad-440e-4d41-86eb-d47551a0201d",
   "metadata": {},
   "source": [
    "class SignDataset(Dataset):\n",
    "    def __init__(self, data_dir):\n",
    "        self.data = ImageFolder(data_dir)\n",
    "\n",
    "    def __len__(self):\n",
    "        return len(self.data)\n",
    "\n",
    "    def __getitem__(self, idx):\n",
    "        return self.data[idx]\n",
    "\n",
    "    @property\n",
    "    def classes(self):\n",
    "        return self.data.classes\n"
   ]
  },
  {
   "cell_type": "markdown",
   "id": "a29307c1-2239-4fdc-aeeb-d90dd00ff1f3",
   "metadata": {},
   "source": [
    "dataset = SignDataset(data_dir = os.path.join(MAIN_DIR, \"data\"))\n",
    "len(dataset)"
   ]
  },
  {
   "cell_type": "code",
   "execution_count": 7,
   "id": "d96bb020-8add-4004-acc7-f0f393e1ff0d",
   "metadata": {},
   "outputs": [],
   "source": [
    "class SignDataset(Dataset):\n",
    "    def __init__(self, data, labels):\n",
    "        self.data = [torch.tensor(seq, dtype=torch.float32).flatten() for seq in data]\n",
    "        self.labels = torch.tensor([int(label) for label in labels], dtype=torch.long)\n",
    "\n",
    "    def __len__(self):\n",
    "        return len(self.data)\n",
    "\n",
    "    def __getitem__(self, idx):\n",
    "        return self.data[idx], self.labels[idx]\n",
    "\n",
    "    @property\n",
    "    def classes(self):\n",
    "        return self.data.classes"
   ]
  },
  {
   "cell_type": "code",
   "execution_count": 8,
   "id": "aa8ed95e-dadb-4ff0-ac3b-067449b11292",
   "metadata": {},
   "outputs": [
    {
     "name": "stdout",
     "output_type": "stream",
     "text": [
      "4706\n"
     ]
    }
   ],
   "source": [
    "dataset = SignDataset(data, labels)\n",
    "print(len(dataset))"
   ]
  },
  {
   "cell_type": "code",
   "execution_count": 9,
   "id": "0ce589bf-82c7-4df9-b221-03a8f4e9a936",
   "metadata": {},
   "outputs": [
    {
     "name": "stdout",
     "output_type": "stream",
     "text": [
      "tensor([0.1923, 0.6914, 0.2643, 0.6740, 0.3293, 0.6314, 0.3821, 0.6032, 0.4171,\n",
      "        0.5628, 0.3040, 0.4112, 0.3715, 0.3840, 0.3938, 0.4640, 0.3918, 0.5358,\n",
      "        0.2489, 0.3666, 0.2850, 0.2062, 0.3047, 0.1009, 0.3162, 0.0000, 0.1853,\n",
      "        0.3766, 0.1696, 0.2220, 0.1578, 0.1208, 0.1535, 0.0219, 0.1268, 0.4355,\n",
      "        0.0662, 0.3362, 0.0274, 0.2749, 0.0000, 0.2059])\n",
      "tensor(5)\n"
     ]
    }
   ],
   "source": [
    "landmarks, label = dataset[4000]\n",
    "print(landmarks)\n",
    "print(label)"
   ]
  },
  {
   "cell_type": "markdown",
   "id": "96042c5b-5043-401b-8517-e37a9c36ff62",
   "metadata": {},
   "source": [
    "# DataLoader Generation"
   ]
  },
  {
   "cell_type": "code",
   "execution_count": 10,
   "id": "9f730570-5a4d-4d85-bd57-0a009895c0e6",
   "metadata": {},
   "outputs": [],
   "source": [
    "dataloader = DataLoader(dataset, batch_size = 32, shuffle = True)"
   ]
  },
  {
   "cell_type": "code",
   "execution_count": 11,
   "id": "c478957d-557d-4c72-917b-643d155ac10e",
   "metadata": {},
   "outputs": [],
   "source": [
    "for data, label in dataloader:\n",
    "    break"
   ]
  },
  {
   "cell_type": "code",
   "execution_count": 12,
   "id": "9cd1cef5-102c-4271-963c-e5128fd7af56",
   "metadata": {},
   "outputs": [
    {
     "name": "stdout",
     "output_type": "stream",
     "text": [
      "torch.Size([32, 42])\n"
     ]
    }
   ],
   "source": [
    "print(data.shape)"
   ]
  },
  {
   "cell_type": "markdown",
   "id": "6da9c6e8-1d74-4416-b598-2370a9e1334b",
   "metadata": {},
   "source": [
    "# Neural Network Construction"
   ]
  },
  {
   "cell_type": "code",
   "execution_count": 16,
   "id": "2a30cd21-94b0-42a5-a8af-f27aa3b5cc5b",
   "metadata": {},
   "outputs": [],
   "source": [
    "class NeuralNetwork(nn.Module):\n",
    "    def __init__(self):\n",
    "        super(NeuralNetwork, self).__init__()\n",
    "        self.net = nn.Sequential(\n",
    "            nn.Linear(2*21, 60),\n",
    "            nn.ReLU(),\n",
    "            nn.Linear(60, 26),\n",
    "            nn.LogSoftmax(dim = 1)\n",
    "        )\n",
    "\n",
    "    def forward(self, x):\n",
    "        return self.net(x)"
   ]
  },
  {
   "cell_type": "code",
   "execution_count": 17,
   "id": "b6ea1213-82fd-4771-89b2-5558f189fb9e",
   "metadata": {},
   "outputs": [
    {
     "name": "stdout",
     "output_type": "stream",
     "text": [
      "NeuralNetwork(\n",
      "  (net): Sequential(\n",
      "    (0): Linear(in_features=42, out_features=60, bias=True)\n",
      "    (1): ReLU()\n",
      "    (2): Linear(in_features=60, out_features=26, bias=True)\n",
      "    (3): LogSoftmax(dim=1)\n",
      "  )\n",
      ")\n"
     ]
    }
   ],
   "source": [
    "model = NeuralNetwork()\n",
    "print(model)"
   ]
  },
  {
   "cell_type": "code",
   "execution_count": 18,
   "id": "264d6f22-4b79-4ebd-88b3-9fe967681cbf",
   "metadata": {},
   "outputs": [
    {
     "data": {
      "text/plain": [
       "torch.Size([32, 26])"
      ]
     },
     "execution_count": 18,
     "metadata": {},
     "output_type": "execute_result"
    }
   ],
   "source": [
    "ex_output = model(data)\n",
    "ex_output.shape # [batch_size, num_classes]"
   ]
  },
  {
   "cell_type": "markdown",
   "id": "d06ba0fc-04a1-4ffa-888d-7ba3272c5d1e",
   "metadata": {},
   "source": [
    "# Loss & Optimizer"
   ]
  },
  {
   "cell_type": "code",
   "execution_count": 19,
   "id": "4454b6c9-52bb-4ae7-8066-b6831bb900de",
   "metadata": {},
   "outputs": [],
   "source": [
    "#Loss\n",
    "criterion = nn.CrossEntropyLoss()\n",
    "#Optimizer\n",
    "optimizer = optim.Adam(model.parameters(), lr = 0.001)"
   ]
  },
  {
   "cell_type": "code",
   "execution_count": 20,
   "id": "42bfd1f9-477a-4486-a4ee-7b1e0c53cd6f",
   "metadata": {},
   "outputs": [
    {
     "data": {
      "text/plain": [
       "tensor(3.2434, grad_fn=<NllLossBackward0>)"
      ]
     },
     "execution_count": 20,
     "metadata": {},
     "output_type": "execute_result"
    }
   ],
   "source": [
    "criterion(ex_output, label)"
   ]
  },
  {
   "cell_type": "code",
   "execution_count": null,
   "id": "6b5dc6b5-9186-48fd-8cea-3eeeb6572bb8",
   "metadata": {},
   "outputs": [],
   "source": []
  },
  {
   "cell_type": "code",
   "execution_count": null,
   "id": "ef691963-f612-4188-8108-f86242860cbd",
   "metadata": {},
   "outputs": [],
   "source": [
    "# Save model for model inference\n",
    "f = open('model.p', 'wb')\n",
    "pickle.dump([model], f)\n",
    "f.close()"
   ]
  },
  {
   "cell_type": "code",
   "execution_count": null,
   "id": "71475c80-d566-4f93-9b55-48030e1fa895",
   "metadata": {},
   "outputs": [],
   "source": []
  }
 ],
 "metadata": {
  "kernelspec": {
   "display_name": "Python 3 (ipykernel)",
   "language": "python",
   "name": "python3"
  },
  "language_info": {
   "codemirror_mode": {
    "name": "ipython",
    "version": 3
   },
   "file_extension": ".py",
   "mimetype": "text/x-python",
   "name": "python",
   "nbconvert_exporter": "python",
   "pygments_lexer": "ipython3",
   "version": "3.11.11"
  }
 },
 "nbformat": 4,
 "nbformat_minor": 5
}
