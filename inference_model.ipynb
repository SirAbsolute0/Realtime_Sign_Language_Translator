{
 "cells": [
  {
   "cell_type": "markdown",
   "id": "d8a2772f-d1a4-4814-8b8d-15dbf119bab0",
   "metadata": {},
   "source": [
    "# Code to inference classifier to recoginize different hand gesture as letter"
   ]
  },
  {
   "cell_type": "code",
   "execution_count": 1,
   "id": "1c8ad1dc-29be-4db7-80cf-2ff6d01c03c1",
   "metadata": {},
   "outputs": [],
   "source": [
    "import cv2\n",
    "import os\n",
    "import pickle\n",
    "import mediapipe as mp\n",
    "import numpy as np"
   ]
  },
  {
   "cell_type": "code",
   "execution_count": 6,
   "id": "d4c83bf1-3514-4f3a-9f3b-eea3f224a39f",
   "metadata": {},
   "outputs": [],
   "source": [
    "#Load data\n",
    "data_dict = pickle.load(open('data.pickle', 'rb'))"
   ]
  },
  {
   "cell_type": "code",
   "execution_count": 8,
   "id": "def2ef26-f1dd-471e-a400-063f3393dcb6",
   "metadata": {},
   "outputs": [],
   "source": [
    "cap = cv2.VideoCapture(0)\n",
    "\n",
    "mp_hands = mp.solutions.hands\n",
    "mp_drawing = mp.solutions.drawing_utils\n",
    "mp_drawing_styles = mp.solutions.drawing_styles\n",
    "\n",
    "hands = mp_hands.Hands(static_image_mode=True, min_detection_confidence=0.3)\n",
    "labels_dict = {0: 'A', 1: 'B', 2: 'C'}"
   ]
  },
  {
   "cell_type": "code",
   "execution_count": null,
   "id": "57c4f1bc-0a82-4a06-8c59-422a356b1082",
   "metadata": {},
   "outputs": [],
   "source": [
    "while True:\n",
    "    "
   ]
  }
 ],
 "metadata": {
  "kernelspec": {
   "display_name": "Python 3 (ipykernel)",
   "language": "python",
   "name": "python3"
  },
  "language_info": {
   "codemirror_mode": {
    "name": "ipython",
    "version": 3
   },
   "file_extension": ".py",
   "mimetype": "text/x-python",
   "name": "python",
   "nbconvert_exporter": "python",
   "pygments_lexer": "ipython3",
   "version": "3.10.16"
  }
 },
 "nbformat": 4,
 "nbformat_minor": 5
}
